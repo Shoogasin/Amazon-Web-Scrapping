{
 "cells": [
  {
   "cell_type": "code",
   "execution_count": 1,
   "id": "af54804d-1dd4-4471-a7ad-e0ce15859a0c",
   "metadata": {},
   "outputs": [],
   "source": [
    "# import libraries \n",
    "\n",
    "from bs4 import BeautifulSoup\n",
    "import requests\n",
    "import time\n",
    "import datetime\n",
    "\n",
    "import smtplib"
   ]
  },
  {
   "cell_type": "code",
   "execution_count": 2,
   "id": "8a7c44ac-b113-4d13-9ed6-e5bbbf216e5e",
   "metadata": {},
   "outputs": [
    {
     "name": "stdout",
     "output_type": "stream",
     "text": [
      "\n",
      "                    Amazon Essentials Men's Slim-Fit Long-Sleeve T-Shirt\n",
      "                   \n",
      "\n",
      "\n",
      "\n",
      "\n",
      "                    $14.20\n",
      "                   \n",
      "\n",
      "\n",
      "\n",
      "\n",
      "\n",
      "                      $\n",
      "                     \n",
      "\n",
      "                      14\n",
      "                      \n",
      "                       .\n",
      "                      \n",
      "\n",
      "\n",
      "                      20\n",
      "                     \n",
      "\n",
      "\n",
      "\n",
      "\n",
      "\n",
      "\n",
      "\n",
      "\n",
      "\n",
      "\n",
      "\n",
      "\n",
      "\n",
      "\n"
     ]
    }
   ],
   "source": [
    "# Connect to Website and pull in data\n",
    "\n",
    "URL = 'https://www.amazon.com/Amazon-Essentials-Slim-Fit-Long-Sleeve-Charcoal/dp/B07756CMRX/ref=sr_1_1_ffob_sspa?crid=6KSWTI2602G8&dib=eyJ2IjoiMSJ9.yB3jplm6NrSkHR3T7af9T9HwmKP0VNyvMT_XTNMLapWNyDQiLsLeV0CNLkTx76TOF-YDO-iCi7miYhgiEneThFkLLQfrWbhv3c2XIJ2LihVqUDYhTivIgrdRKdB0TEC6fL539edUIUUlz4EifVwlYntl2yOkmaW-3bgRfHcdH6Yymc1UADq9tAYNac84gnnnirMdukZ-L2LCBn_JVU_gIxvjIlUASP0ERGYWUaUW8FDpDc7r_GUvADHe_SOs7EEWxHk0z-zsIVZMApsXam5ZUpKMbMHlghI9aFmNpQE2fx0.6phFiBVw88sjDz28aDnTVpqR6kK85sDhhpRbPjjEbZg&dib_tag=se&keywords=men%2Bt-shirt&qid=1713771421&sprefix=men%2Bt-shirt%2Caps%2C671&sr=8-1-spons&sp_csd=d2lkZ2V0TmFtZT1zcF9hdGY&th=1&psc=1'\n",
    "\n",
    "headers = {\"User-Agent\": \"Mozilla/5.0 (Windows NT 10.0; Win64; x64) AppleWebKit/537.36 (KHTML, like Gecko) Chrome/123.0.0.0 Safari/537.36 Edg/123.0.0.0\", \"Accept-Encoding\":\"gzip, deflate\", \"Accept\":\"text/html,application/xhtml+xml,application/xml;q=0.9,*/*;q=0.8\", \"DNT\":\"1\",\"Connection\":\"close\", \"Upgrade-Insecure-Requests\":\"1\"}\n",
    "\n",
    "page = requests.get(URL, headers=headers)\n",
    "\n",
    "soup1 = BeautifulSoup(page.content, \"html.parser\")\n",
    "\n",
    "soup2 = BeautifulSoup(soup1.prettify(), \"html.parser\")\n",
    "\n",
    "title = soup2.find(id='productTitle').get_text()\n",
    "\n",
    "price = soup2.find(id='corePriceDisplay_desktop_feature_div').get_text()\n",
    "\n",
    "\n",
    "print(title)\n",
    "print(price)"
   ]
  },
  {
   "cell_type": "code",
   "execution_count": 3,
   "id": "42743a1f-d21c-482f-8864-baf38adff2ec",
   "metadata": {},
   "outputs": [
    {
     "name": "stdout",
     "output_type": "stream",
     "text": [
      "Amazon Essentials Men's Slim-Fit Long-Sleeve T-Shirt\n",
      "14.20\n",
      "                   \n",
      "\n",
      "\n",
      "\n",
      "\n",
      "\n",
      "                      $\n",
      "                     \n",
      "\n",
      "                      14\n",
      "                      \n",
      "                       .\n",
      "                      \n",
      "\n",
      "\n",
      "                      20\n"
     ]
    }
   ],
   "source": [
    "# Clean up the data a little bit\n",
    "\n",
    "price = price.strip()[1:]\n",
    "title = title.strip()\n",
    "\n",
    "print(title)\n",
    "print(price)"
   ]
  },
  {
   "cell_type": "code",
   "execution_count": 13,
   "id": "644cc1ea-1f25-4a2e-a88c-59057df02326",
   "metadata": {},
   "outputs": [
    {
     "name": "stdout",
     "output_type": "stream",
     "text": [
      "2024-04-25\n"
     ]
    }
   ],
   "source": [
    "# Create a Timestamp for your output to track when data was collected\n",
    "\n",
    "import datetime\n",
    "\n",
    "today = datetime.date.today()\n",
    "\n",
    "print(today)"
   ]
  },
  {
   "cell_type": "code",
   "execution_count": 6,
   "id": "76f0fa27-3b8a-407d-b68e-8e40fa89b528",
   "metadata": {},
   "outputs": [],
   "source": [
    "# Create CSV and write headers and data into the file\n",
    "\n",
    "import csv \n",
    "\n",
    "header = ['Title', 'Price', 'Date']\n",
    "data = [title, price, today]\n",
    "\n",
    "\n",
    "with open('AmazonWebScraperDataset.csv', 'w', newline='', encoding='UTF8') as f:\n",
    "    writer = csv.writer(f)\n",
    "    writer.writerow(header)\n",
    "    writer.writerow(data)\n",
    "    "
   ]
  },
  {
   "cell_type": "code",
   "execution_count": null,
   "id": "94926ef0-0b4b-47f6-83ec-27e055b92770",
   "metadata": {},
   "outputs": [],
   "source": [
    "import pandas as pd\n",
    "\n",
    "df = pd.read_csv(r'C:\\Users\\PC\\Downloads/AmazonWebScrapeDataset.csv')\n",
    "\n",
    "print(df)"
   ]
  },
  {
   "cell_type": "code",
   "execution_count": null,
   "id": "1a3454f1-9ed4-4b8e-9a7f-0e8bb06ae790",
   "metadata": {},
   "outputs": [],
   "source": [
    "#Now we are appending data to the csv\n",
    "\n",
    "with open('AmazonWebScraperDataset.csv', 'a+', newline='', encoding='UTF8') as f:\n",
    "    writer = csv.writer(f)\n",
    "    writer.writerow(data)"
   ]
  },
  {
   "cell_type": "code",
   "execution_count": null,
   "id": "9b2b4832-0358-46b7-af04-5df5bb45ff3e",
   "metadata": {},
   "outputs": [],
   "source": [
    "\n",
    "def check_price():\n",
    "    URL = 'https://www.amazon.com/Amazon-Essentials-Slim-Fit-Long-Sleeve-Charcoal/dp/B07756CMRX/ref=sr_1_1_ffob_sspa?crid=6KSWTI2602G8&dib=eyJ2IjoiMSJ9.yB3jplm6NrSkHR3T7af9T9HwmKP0VNyvMT_XTNMLapWNyDQiLsLeV0CNLkTx76TOF-YDO-iCi7miYhgiEneThFkLLQfrWbhv3c2XIJ2LihVqUDYhTivIgrdRKdB0TEC6fL539edUIUUlz4EifVwlYntl2yOkmaW-3bgRfHcdH6Yymc1UADq9tAYNac84gnnnirMdukZ-L2LCBn_JVU_gIxvjIlUASP0ERGYWUaUW8FDpDc7r_GUvADHe_SOs7EEWxHk0z-zsIVZMApsXam5ZUpKMbMHlghI9aFmNpQE2fx0.6phFiBVw88sjDz28aDnTVpqR6kK85sDhhpRbPjjEbZg&dib_tag=se&keywords=men%2Bt-shirt&qid=1713771421&sprefix=men%2Bt-shirt%2Caps%2C671&sr=8-1-spons&sp_csd=d2lkZ2V0TmFtZT1zcF9hdGY&th=1&psc=1'\n",
    "\n",
    "headers = {\"User-Agent\": \"Mozilla/5.0 (Windows NT 10.0; Win64; x64) AppleWebKit/537.36 (KHTML, like Gecko) Chrome/123.0.0.0 Safari/537.36 Edg/123.0.0.0\", \"Accept-Encoding\":\"gzip, deflate\", \"Accept\":\"text/html,application/xhtml+xml,application/xml;q=0.9,*/*;q=0.8\", \"DNT\":\"1\",\"Connection\":\"close\", \"Upgrade-Insecure-Requests\":\"1\"}\n",
    "\n",
    "page = requests.get(URL, headers=headers)\n",
    "\n",
    "soup1 = BeautifulSoup(page.content, \"html.parser\")\n",
    "\n",
    "soup2 = BeautifulSoup(soup1.prettify(), \"html.parser\")\n",
    "\n",
    "title = soup2.find(id='productTitle').get_text()\n",
    "\n",
    "price = soup2.find(id='corePriceDisplay_desktop_feature_div').get_text()\n",
    "\n",
    "price = price.strip()[1:]\n",
    "title = title.strip()\n",
    "\n",
    "import datetime\n",
    "\n",
    "today = datetime.date.today()\n",
    "\n",
    "import csv \n",
    "\n",
    "header = ['Title', 'Price', 'Date']\n",
    "data = [title, price, today]\n",
    "\n",
    "with open('AmazonWebScraperDataset.csv', 'a+', newline='', encoding='UTF8') as f:\n",
    "    writer = csv.writer(f)\n",
    "    writer.writerow(data)\n",
    "\n"
   ]
  },
  {
   "cell_type": "code",
   "execution_count": null,
   "id": "c219baef-3bf0-454f-b72f-d07d2d8889ea",
   "metadata": {},
   "outputs": [],
   "source": [
    "while(True)\n",
    "     check_price()\n",
    "     time.sleep(86400)\n"
   ]
  },
  {
   "cell_type": "code",
   "execution_count": null,
   "id": "25c43482-5fb5-449e-9c02-1b9c7b87786f",
   "metadata": {},
   "outputs": [],
   "source": [
    "import pandas as pd\n",
    "\n",
    "df = pd.read_csv(r'C:\\Users\\PC\\Downloads/AmazonWebScrapeDataset.csv')\n",
    "\n",
    "print(df)"
   ]
  },
  {
   "cell_type": "code",
   "execution_count": null,
   "id": "fe1d2ea6-d6d1-464c-a491-1ac33d584934",
   "metadata": {},
   "outputs": [],
   "source": [
    "def send_mail():\n",
    "    server = smtplib.SMTP_SSL('smtp.gmail.com',465)\n",
    "    server.ehlo()\n",
    "    #server.starttls()\n",
    "    server.ehlo()\n",
    "    server.login('OluwoleOpeyemiaina@gmail.com','xxxxxxxxxxxxx')\n",
    "    \n",
    "    subject = \"The Shirt you want is below $10! Now is your chance to buy!\"\n",
    "    body = \"Wole, This is the moment we have been waiting for. Now is your chance to pick up the shirt of your dreams. Don't mess it up! Link here: https://www.amazon.com/Amazon-Essentials-Slim-Fit-Long-Sleeve-Charcoal/dp/B07756CMRX/ref=sr_1_1_ffob_sspa?crid=6KSWTI2602G8&dib=eyJ2IjoiMSJ9.yB3jplm6NrSkHR3T7af9T9HwmKP0VNyvMT_XTNMLapWNyDQiLsLeV0CNLkTx76TOF-YDO-iCi7miYhgiEneThFkLLQfrWbhv3c2XIJ2LihVqUDYhTivIgrdRKdB0TEC6fL539edUIUUlz4EifVwlYntl2yOkmaW-3bgRfHcdH6Yymc1UADq9tAYNac84gnnnirMdukZ-L2LCBn_JVU_gIxvjIlUASP0ERGYWUaUW8FDpDc7r_GUvADHe_SOs7EEWxHk0z-zsIVZMApsXam5ZUpKMbMHlghI9aFmNpQE2fx0.6phFiBVw88sjDz28aDnTVpqR6kK85sDhhpRbPjjEbZg&dib_tag=se&keywords=men%2Bt-shirt&qid=1713771421&sprefix=men%2Bt-shirt%2Caps%2C671&sr=8-1-spons&sp_csd=d2lkZ2V0TmFtZT1zcF9hdGY&th=1&psc=1\"\n",
    "   \n",
    "    msg = f\"Subject: {subject}\\n\\n{body}\"\n",
    "    \n",
    "    server.sendmail(\n",
    "        'OluwoleOpeyemiAina@gmail.com',\n",
    "        msg\n",
    "     \n",
    "    )"
   ]
  }
 ],
 "metadata": {
  "kernelspec": {
   "display_name": "Python 3 (ipykernel)",
   "language": "python",
   "name": "python3"
  },
  "language_info": {
   "codemirror_mode": {
    "name": "ipython",
    "version": 3
   },
   "file_extension": ".py",
   "mimetype": "text/x-python",
   "name": "python",
   "nbconvert_exporter": "python",
   "pygments_lexer": "ipython3",
   "version": "3.11.7"
  }
 },
 "nbformat": 4,
 "nbformat_minor": 5
}
